{
  "nbformat": 4,
  "nbformat_minor": 0,
  "metadata": {
    "colab": {
      "provenance": [],
      "authorship_tag": "ABX9TyOLOgtY3V5qb7jHYfPIsPd1",
      "include_colab_link": true
    },
    "kernelspec": {
      "name": "python3",
      "display_name": "Python 3"
    },
    "language_info": {
      "name": "python"
    }
  },
  "cells": [
    {
      "cell_type": "markdown",
      "metadata": {
        "id": "view-in-github",
        "colab_type": "text"
      },
      "source": [
        "<a href=\"https://colab.research.google.com/github/diancarneiro/Python/blob/main/PythonForBeginners.ipynb\" target=\"_parent\"><img src=\"https://colab.research.google.com/assets/colab-badge.svg\" alt=\"Open In Colab\"/></a>"
      ]
    },
    {
      "cell_type": "code",
      "execution_count": 1,
      "metadata": {
        "id": "VHLXQ-B1SuKw"
      },
      "outputs": [],
      "source": [
        "# This is a comment"
      ]
    },
    {
      "cell_type": "code",
      "source": [
        "# Objects and their types\n",
        "# For loops\n",
        "# if statements\n",
        "# Functions\n",
        "# Problem solving exercise"
      ],
      "metadata": {
        "id": "9voXwJS2TGJl"
      },
      "execution_count": 2,
      "outputs": []
    },
    {
      "cell_type": "code",
      "source": [
        "a = 1"
      ],
      "metadata": {
        "id": "IbcNokkpTg22"
      },
      "execution_count": 3,
      "outputs": []
    },
    {
      "cell_type": "code",
      "source": [
        "print(a)"
      ],
      "metadata": {
        "colab": {
          "base_uri": "https://localhost:8080/"
        },
        "id": "bIadoomFTsAN",
        "outputId": "9d541e30-bb24-4682-a239-40cb0d25eb8f"
      },
      "execution_count": 5,
      "outputs": [
        {
          "output_type": "stream",
          "name": "stdout",
          "text": [
            "1\n"
          ]
        }
      ]
    },
    {
      "cell_type": "code",
      "source": [
        "c=\"one\"\n",
        "print(a,c)"
      ],
      "metadata": {
        "colab": {
          "base_uri": "https://localhost:8080/"
        },
        "id": "UVA7DEwaTzs8",
        "outputId": "92f72a08-85d8-446c-fc92-2418f20702a3"
      },
      "execution_count": 6,
      "outputs": [
        {
          "output_type": "stream",
          "name": "stdout",
          "text": [
            "1 one\n"
          ]
        }
      ]
    },
    {
      "cell_type": "code",
      "source": [
        "b=2\n",
        "print(a + b)"
      ],
      "metadata": {
        "colab": {
          "base_uri": "https://localhost:8080/"
        },
        "id": "FHLvo3obT76K",
        "outputId": "886de928-0b60-4d40-fb74-248a3f62843e"
      },
      "execution_count": 7,
      "outputs": [
        {
          "output_type": "stream",
          "name": "stdout",
          "text": [
            "3\n"
          ]
        }
      ]
    },
    {
      "cell_type": "code",
      "source": [
        "type(a)"
      ],
      "metadata": {
        "colab": {
          "base_uri": "https://localhost:8080/"
        },
        "id": "8iRWtbZjUA9i",
        "outputId": "b2f3b2fa-7045-4545-da87-61bc8b98ee46"
      },
      "execution_count": 8,
      "outputs": [
        {
          "output_type": "execute_result",
          "data": {
            "text/plain": [
              "int"
            ]
          },
          "metadata": {},
          "execution_count": 8
        }
      ]
    },
    {
      "cell_type": "code",
      "source": [
        "type(c)"
      ],
      "metadata": {
        "colab": {
          "base_uri": "https://localhost:8080/"
        },
        "id": "v6U9KN4wUNts",
        "outputId": "f10e2eb5-246d-44ba-c711-b465402604a4"
      },
      "execution_count": 9,
      "outputs": [
        {
          "output_type": "execute_result",
          "data": {
            "text/plain": [
              "str"
            ]
          },
          "metadata": {},
          "execution_count": 9
        }
      ]
    },
    {
      "cell_type": "code",
      "source": [
        "my_string=\"Hello world\"\n",
        "print(my_string, type(my_string))"
      ],
      "metadata": {
        "colab": {
          "base_uri": "https://localhost:8080/"
        },
        "id": "PZ2vBd2YUQ9Z",
        "outputId": "6446c1c3-d3d2-4993-a358-ef06dbfcba5b"
      },
      "execution_count": 10,
      "outputs": [
        {
          "output_type": "stream",
          "name": "stdout",
          "text": [
            "Hello world <class 'str'>\n"
          ]
        }
      ]
    },
    {
      "cell_type": "code",
      "source": [
        "my_string[0]"
      ],
      "metadata": {
        "colab": {
          "base_uri": "https://localhost:8080/",
          "height": 35
        },
        "id": "vB0O476mUv6-",
        "outputId": "9717910d-fee3-4ad1-c33e-2bd2dc8ddd0b"
      },
      "execution_count": 11,
      "outputs": [
        {
          "output_type": "execute_result",
          "data": {
            "text/plain": [
              "'H'"
            ],
            "application/vnd.google.colaboratory.intrinsic+json": {
              "type": "string"
            }
          },
          "metadata": {},
          "execution_count": 11
        }
      ]
    },
    {
      "cell_type": "code",
      "source": [
        "# Strings\n",
        "\n",
        "# Strings are a text a data type it is:\n",
        "# Ordered\n",
        "# Iterable (for)\n",
        "# Immutable (we cant change)"
      ],
      "metadata": {
        "id": "eHkF1DihWXkD"
      },
      "execution_count": 17,
      "outputs": []
    },
    {
      "cell_type": "code",
      "source": [
        "my_string[0:5] # python is zero index"
      ],
      "metadata": {
        "colab": {
          "base_uri": "https://localhost:8080/",
          "height": 35
        },
        "id": "ip_1Gw5RVUWI",
        "outputId": "c284a041-496d-406d-e065-98d856c9ab7d"
      },
      "execution_count": 15,
      "outputs": [
        {
          "output_type": "execute_result",
          "data": {
            "text/plain": [
              "'Hello'"
            ],
            "application/vnd.google.colaboratory.intrinsic+json": {
              "type": "string"
            }
          },
          "metadata": {},
          "execution_count": 15
        }
      ]
    },
    {
      "cell_type": "code",
      "source": [
        "for element in my_string:\n",
        "  print(element)"
      ],
      "metadata": {
        "colab": {
          "base_uri": "https://localhost:8080/"
        },
        "id": "56Wk_vcEWCbC",
        "outputId": "a8f0e290-9f4d-4cf8-ff88-57c2ea74b41d"
      },
      "execution_count": 16,
      "outputs": [
        {
          "output_type": "stream",
          "name": "stdout",
          "text": [
            "H\n",
            "e\n",
            "l\n",
            "l\n",
            "o\n",
            " \n",
            "w\n",
            "o\n",
            "r\n",
            "l\n",
            "d\n"
          ]
        }
      ]
    },
    {
      "cell_type": "code",
      "source": [
        "# Integers\n",
        "\n",
        "# Integers are a numeric data type that has no decimal numbers\n",
        "# they can be 0, positive or negative numbers\n",
        "# intergers can be binary, octal, and hexadecimal values\n",
        "# they are useful for mathematical operations\n",
        "# leading zeros are not allowed\n",
        "\n",
        "operation =2**3 # cube\n",
        "print (\"2**3\", operation)"
      ],
      "metadata": {
        "colab": {
          "base_uri": "https://localhost:8080/"
        },
        "id": "PFp7Z2ueWRMf",
        "outputId": "612aefdb-d511-4aac-900c-5c5474072a21"
      },
      "execution_count": 18,
      "outputs": [
        {
          "output_type": "stream",
          "name": "stdout",
          "text": [
            "2**3 8\n"
          ]
        }
      ]
    },
    {
      "cell_type": "code",
      "source": [
        "# In python everything is a object\n",
        "\n",
        "# However, some objects can store other objects\n",
        "# There are, lists, dicts, sets and tuples\n",
        "\n",
        "my_list = [1,2,3,4,5] # list\n",
        "my_dict = {\"one\":1, \"two\":2, \"three\":3, \"four\":4, \"five\":5} #dictionary\n",
        "\n"
      ],
      "metadata": {
        "id": "1-jAaqdaXOMA"
      },
      "execution_count": 20,
      "outputs": []
    },
    {
      "cell_type": "code",
      "source": [
        "# Lists\n",
        "\n",
        "thislist =  [\"apple\", \"banana\", \"cherry\", \"apple\", \"cherry\"]"
      ],
      "metadata": {
        "id": "kcEL_7qhYBq9"
      },
      "execution_count": 25,
      "outputs": []
    },
    {
      "cell_type": "code",
      "source": [
        "# lists are orderd, iterable, changeable, and allow duplicate values\n",
        "# the usage of lists are huge, as it mantains its order and you can change values inside of it\n",
        "# some of lists methods:\n",
        "\n",
        "thislist[3]='castanhas'"
      ],
      "metadata": {
        "id": "HUiFrcSoYQ9a"
      },
      "execution_count": 27,
      "outputs": []
    },
    {
      "cell_type": "code",
      "source": [
        "thislist"
      ],
      "metadata": {
        "colab": {
          "base_uri": "https://localhost:8080/"
        },
        "id": "VvZx2IgMZAOd",
        "outputId": "acd3fbe3-592d-4002-c527-0a7c707bb0a6"
      },
      "execution_count": 28,
      "outputs": [
        {
          "output_type": "execute_result",
          "data": {
            "text/plain": [
              "['apple', 'banana', 'cherry', 'castanhas', 'cherry']"
            ]
          },
          "metadata": {},
          "execution_count": 28
        }
      ]
    },
    {
      "cell_type": "code",
      "source": [
        "thislist[-1]='mango'"
      ],
      "metadata": {
        "id": "wFmzSVr0ZFPU"
      },
      "execution_count": 31,
      "outputs": []
    },
    {
      "cell_type": "code",
      "source": [
        "thislist"
      ],
      "metadata": {
        "colab": {
          "base_uri": "https://localhost:8080/"
        },
        "id": "IuHvjCeKZTa7",
        "outputId": "f73435d0-2996-4ded-d54c-dcbf4ed6b6c7"
      },
      "execution_count": 32,
      "outputs": [
        {
          "output_type": "execute_result",
          "data": {
            "text/plain": [
              "['apple', 'banana', 'mango', 'castanhas', 'mango']"
            ]
          },
          "metadata": {},
          "execution_count": 32
        }
      ]
    },
    {
      "cell_type": "code",
      "source": [
        "len(thislist) # the length of your object (the amount of elements inside of it)"
      ],
      "metadata": {
        "colab": {
          "base_uri": "https://localhost:8080/"
        },
        "id": "73sjDM5SZYwK",
        "outputId": "7fcf4d16-3ab0-4932-f888-107ed033e000"
      },
      "execution_count": 35,
      "outputs": [
        {
          "output_type": "execute_result",
          "data": {
            "text/plain": [
              "5"
            ]
          },
          "metadata": {},
          "execution_count": 35
        }
      ]
    },
    {
      "cell_type": "code",
      "source": [
        "thislist.index('castanhas') # Return the first appearance inside the list"
      ],
      "metadata": {
        "colab": {
          "base_uri": "https://localhost:8080/"
        },
        "id": "o-TBTCLnZnE5",
        "outputId": "915b90aa-9272-4a4b-d99f-0ea9e887a031"
      },
      "execution_count": 36,
      "outputs": [
        {
          "output_type": "execute_result",
          "data": {
            "text/plain": [
              "3"
            ]
          },
          "metadata": {},
          "execution_count": 36
        }
      ]
    },
    {
      "cell_type": "code",
      "source": [
        "# DICTIONARIES\n",
        "# dicts are another usefull object in oython\n",
        "# they are usefull especially because they store a key: value relation"
      ],
      "metadata": {
        "id": "lqHvimvvawlk"
      },
      "execution_count": null,
      "outputs": []
    }
  ]
}